{
 "cells": [
  {
   "cell_type": "code",
   "execution_count": 1,
   "metadata": {},
   "outputs": [],
   "source": [
    "import numpy as np \n",
    "import os \n",
    "import matplotlib.pyplot as plt \n",
    "import pandas as pd "
   ]
  },
  {
   "cell_type": "code",
   "execution_count": 2,
   "metadata": {},
   "outputs": [],
   "source": [
    "datainfo = pd.read_csv('/home/jhubadmin/Projects/autopet2024/task1/monai/data_analysis/datainfo.csv')"
   ]
  },
  {
   "cell_type": "code",
   "execution_count": 6,
   "metadata": {},
   "outputs": [
    {
     "name": "stdout",
     "output_type": "stream",
     "text": [
      "(array(['18F', '68Ga', 'FDG'], dtype=object), array([ 369,  228, 1014]))\n"
     ]
    },
    {
     "data": {
      "image/png": "[encoded data removed]",
      "text/plain": [
       "<Figure size 432x288 with 1 Axes>"
      ]
     },
     "metadata": {
      "needs_background": "light"
     },
     "output_type": "display_data"
    }
   ],
   "source": [
    "col = 'Tracer'\n",
    "info = datainfo[col]\n",
    "plt.hist(info)\n",
    "print(np.unique(info, return_counts=True))"
   ]
  },
  {
   "cell_type": "code",
   "execution_count": 7,
   "metadata": {},
   "outputs": [
    {
     "name": "stdout",
     "output_type": "stream",
     "text": [
      "(array(['LUNG_CANCER', 'LYMPHOMA', 'MELANOMA', 'NEGATIVE', 'PROSTATE'],\n",
      "      dtype=object), array([169, 146, 191, 568, 537]))\n"
     ]
    },
    {
     "data": {
      "image/png": "[encoded data removed]",
      "text/plain": [
       "<Figure size 432x288 with 1 Axes>"
      ]
     },
     "metadata": {
      "needs_background": "light"
     },
     "output_type": "display_data"
    }
   ],
   "source": [
    "col = 'Diagnosis'\n",
    "info = datainfo[col]\n",
    "plt.hist(info)\n",
    "print(np.unique(info, return_counts=True))"
   ]
  },
  {
   "cell_type": "code",
   "execution_count": 11,
   "metadata": {},
   "outputs": [
    {
     "name": "stdout",
     "output_type": "stream",
     "text": [
      "(array([11, 15, 16, 17, 18, 19, 20, 21, 22, 23, 24, 25, 26, 27, 28, 29, 30,\n",
      "       31, 32, 33, 34, 35, 36, 37, 38, 39, 40, 41, 42, 43, 44, 45, 46, 47,\n",
      "       48, 49, 50, 51, 52, 53, 54, 55, 56, 57, 58, 59, 60, 61, 62, 63, 64,\n",
      "       65, 66, 67, 68, 69, 70, 71, 72, 73, 74, 75, 76, 77, 78, 79, 80, 81,\n",
      "       82, 83, 84, 85, 86, 87, 88, 89, 90, 91, 92, 95]), array([ 1,  1,  1,  1,  5, 11,  4,  6,  3,  3,  3,  4,  6,  3,  8,  8,  3,\n",
      "        4,  4,  9,  3,  6,  8, 13,  5,  3, 13,  7,  6,  7,  7,  5,  7, 16,\n",
      "       25, 21, 18, 18, 18, 23, 39, 29, 25, 28, 38, 39, 39, 48, 46, 41, 37,\n",
      "       40, 36, 32, 52, 57, 36, 52, 43, 45, 58, 52, 57, 44, 45, 59, 56, 32,\n",
      "       29, 16, 15,  7,  5,  5,  2,  5,  1,  1,  2,  1]))\n"
     ]
    },
    {
     "data": {
      "image/png": "[encoded data removed]",
      "text/plain": [
       "<Figure size 432x288 with 1 Axes>"
      ]
     },
     "metadata": {
      "needs_background": "light"
     },
     "output_type": "display_data"
    }
   ],
   "source": [
    "col = 'Age'\n",
    "info = datainfo[col]\n",
    "plt.hist(info)\n",
    "plt.xlabel('Years', fontsize=18)\n",
    "print(np.unique(info, return_counts=True))"
   ]
  },
  {
   "cell_type": "code",
   "execution_count": 13,
   "metadata": {},
   "outputs": [
    {
     "name": "stdout",
     "output_type": "stream",
     "text": [
      "(array(['F', 'M', 'nan'], dtype='<U32'), array([ 440, 1167,    4]))\n"
     ]
    },
    {
     "data": {
      "image/png": "[encoded data removed]",
      "text/plain": [
       "<Figure size 432x288 with 1 Axes>"
      ]
     },
     "metadata": {
      "needs_background": "light"
     },
     "output_type": "display_data"
    }
   ],
   "source": [
    "col = 'Sex'\n",
    "info = datainfo[col]\n",
    "plt.hist(info.tolist())\n",
    "print(np.unique(info.tolist(), return_counts=True))"
   ]
  },
  {
   "cell_type": "code",
   "execution_count": 14,
   "metadata": {},
   "outputs": [
    {
     "name": "stdout",
     "output_type": "stream",
     "text": [
      "(array([168, 200, 256, 400]), array([ 116,  251,  230, 1014]))\n"
     ]
    },
    {
     "data": {
      "image/png": "[encoded data removed]",
      "text/plain": [
       "<Figure size 432x288 with 1 Axes>"
      ]
     },
     "metadata": {
      "needs_background": "light"
     },
     "output_type": "display_data"
    }
   ],
   "source": [
    "col = 'SizeX'\n",
    "info = datainfo[col]\n",
    "plt.hist(info.tolist())\n",
    "print(np.unique(info.tolist(), return_counts=True))"
   ]
  },
  {
   "cell_type": "code",
   "execution_count": 15,
   "metadata": {},
   "outputs": [
    {
     "name": "stdout",
     "output_type": "stream",
     "text": [
      "(array([135, 165, 195, 200, 226, 227, 232, 236, 239, 242, 243, 254, 259,\n",
      "       261, 262, 263, 265, 268, 272, 273, 274, 276, 277, 278, 280, 281,\n",
      "       282, 284, 285, 286, 288, 289, 290, 292, 293, 295, 296, 297, 299,\n",
      "       300, 301, 303, 304, 305, 307, 308, 309, 311, 312, 313, 315, 316,\n",
      "       318, 319, 320, 322, 323, 324, 325, 326, 327, 328, 330, 331, 332,\n",
      "       334, 335, 338, 339, 340, 341, 342, 343, 344, 345, 346, 347, 350,\n",
      "       351, 353, 354, 356, 363, 365, 367, 368, 370, 371, 373, 374, 375,\n",
      "       377, 379, 381, 383, 385, 387, 389, 391, 393, 395, 397, 399, 401,\n",
      "       403, 405, 407, 408, 409, 410, 411, 413, 415, 417, 419, 420, 421,\n",
      "       423, 425, 427, 429, 431, 433, 435, 436, 438, 440, 442, 444, 446,\n",
      "       447, 448, 450, 451, 452, 454, 457, 458, 462, 464, 466, 470, 472,\n",
      "       493, 497, 508, 527, 528, 535, 536, 538, 545, 549, 550, 551, 558,\n",
      "       559, 561, 563, 565, 568, 569, 573, 574, 576, 577, 578, 580, 581,\n",
      "       584, 585, 586, 588, 589, 592, 593, 595, 597, 599, 608, 611, 613,\n",
      "       619, 622, 624, 628, 631, 634, 635, 636, 642, 649, 653, 660, 661,\n",
      "       963]), array([  1,  49,  65,   2,   1,   3,   1,   1,   1,  21,   1,   2,   3,\n",
      "         1,   1, 184,   2,   2,   2,   3,   3,   1,   4,   1,   1,   3,\n",
      "         7, 219,   5,   1,   6,   5,   3,   4,   3,   5,   9,   8,  48,\n",
      "         7,  11,   5,   3,   5,   6,   3,   7,   3,   9,   4,   7,   5,\n",
      "        12,   8,   3,   3,   5,   7,   1, 318,   6,   4,   7,   4,   3,\n",
      "         2,   4,   4,   1,   1,   1,   2,   1,   1,   1,   3,   1,   3,\n",
      "         1,   2,   3,   1,   2,   1,   2,  26,   2,   1,   3,   1,   4,\n",
      "         4,   1,   3,   2,   3,   3,   7,   2,   3,   5,  10,   2,  16,\n",
      "         9,   7,   7,   1,  14,   1,   6,   9,   6,  10,   5,   1,   9,\n",
      "        10,   8,   5,  14,   3,   5,   8,   1,   4,   2,   4,   5,   1,\n",
      "         1,   6,   3,  11,   5,   5,   1,   1,   1,   1,   2,   1,   1,\n",
      "         4,   1,   1,   1,   1,  11,   3,   1,   1,   1,   1,   1,   1,\n",
      "         1,   2,   1,   1,   1,   1,   1,   1,   1,  31,   1,   2,   1,\n",
      "         1,   1,   1,   4,   3,   1,   1,   1,   1,   1,   2,   1,   1,\n",
      "        29,   1,   1,   1,   3,   1,   1,   1,   1,   1,   3,   1,   7,\n",
      "         1]))\n"
     ]
    },
    {
     "data": {
      "image/png": "[encoded data removed]",
      "text/plain": [
       "<Figure size 432x288 with 1 Axes>"
      ]
     },
     "metadata": {
      "needs_background": "light"
     },
     "output_type": "display_data"
    }
   ],
   "source": [
    "col = 'SizeZ'\n",
    "info = datainfo[col]\n",
    "plt.hist(info.tolist())\n",
    "print(np.unique(info.tolist(), return_counts=True))"
   ]
  },
  {
   "cell_type": "code",
   "execution_count": 16,
   "metadata": {},
   "outputs": [
    {
     "name": "stdout",
     "output_type": "stream",
     "text": [
      "(array([2.03642011, 2.734375  , 4.0728302 ]), array([1014,  230,  367]))\n"
     ]
    },
    {
     "data": {
      "image/png": "[encoded data removed]",
      "text/plain": [
       "<Figure size 432x288 with 1 Axes>"
      ]
     },
     "metadata": {
      "needs_background": "light"
     },
     "output_type": "display_data"
    }
   ],
   "source": [
    "col = 'SpcX'\n",
    "info = datainfo[col]\n",
    "plt.hist(info.tolist())\n",
    "print(np.unique(info.tolist(), return_counts=True))"
   ]
  },
  {
   "cell_type": "code",
   "execution_count": 17,
   "metadata": {},
   "outputs": [
    {
     "name": "stdout",
     "output_type": "stream",
     "text": [
      "(array([135, 165, 195, 200, 226, 227, 232, 236, 239, 242, 243, 254, 259,\n",
      "       261, 262, 263, 265, 268, 272, 273, 274, 276, 277, 278, 280, 281,\n",
      "       282, 284, 285, 286, 288, 289, 290, 292, 293, 295, 296, 297, 299,\n",
      "       300, 301, 303, 304, 305, 307, 308, 309, 311, 312, 313, 315, 316,\n",
      "       318, 319, 320, 322, 323, 324, 325, 326, 327, 328, 330, 331, 332,\n",
      "       334, 335, 338, 339, 340, 341, 342, 343, 344, 345, 346, 347, 350,\n",
      "       351, 353, 354, 356, 363, 365, 367, 368, 370, 371, 373, 374, 375,\n",
      "       377, 379, 381, 383, 385, 387, 389, 391, 393, 395, 397, 399, 401,\n",
      "       403, 405, 407, 408, 409, 410, 411, 413, 415, 417, 419, 420, 421,\n",
      "       423, 425, 427, 429, 431, 433, 435, 436, 438, 440, 442, 444, 446,\n",
      "       447, 448, 450, 451, 452, 454, 457, 458, 462, 464, 466, 470, 472,\n",
      "       493, 497, 508, 527, 528, 535, 536, 538, 545, 549, 550, 551, 558,\n",
      "       559, 561, 563, 565, 568, 569, 573, 574, 576, 577, 578, 580, 581,\n",
      "       584, 585, 586, 588, 589, 592, 593, 595, 597, 599, 608, 611, 613,\n",
      "       619, 622, 624, 628, 631, 634, 635, 636, 642, 649, 653, 660, 661,\n",
      "       963]), array([  1,  49,  65,   2,   1,   3,   1,   1,   1,  21,   1,   2,   3,\n",
      "         1,   1, 184,   2,   2,   2,   3,   3,   1,   4,   1,   1,   3,\n",
      "         7, 219,   5,   1,   6,   5,   3,   4,   3,   5,   9,   8,  48,\n",
      "         7,  11,   5,   3,   5,   6,   3,   7,   3,   9,   4,   7,   5,\n",
      "        12,   8,   3,   3,   5,   7,   1, 318,   6,   4,   7,   4,   3,\n",
      "         2,   4,   4,   1,   1,   1,   2,   1,   1,   1,   3,   1,   3,\n",
      "         1,   2,   3,   1,   2,   1,   2,  26,   2,   1,   3,   1,   4,\n",
      "         4,   1,   3,   2,   3,   3,   7,   2,   3,   5,  10,   2,  16,\n",
      "         9,   7,   7,   1,  14,   1,   6,   9,   6,  10,   5,   1,   9,\n",
      "        10,   8,   5,  14,   3,   5,   8,   1,   4,   2,   4,   5,   1,\n",
      "         1,   6,   3,  11,   5,   5,   1,   1,   1,   1,   2,   1,   1,\n",
      "         4,   1,   1,   1,   1,  11,   3,   1,   1,   1,   1,   1,   1,\n",
      "         1,   2,   1,   1,   1,   1,   1,   1,   1,  31,   1,   2,   1,\n",
      "         1,   1,   1,   4,   3,   1,   1,   1,   1,   1,   2,   1,   1,\n",
      "        29,   1,   1,   1,   3,   1,   1,   1,   1,   1,   3,   1,   7,\n",
      "         1]))\n"
     ]
    },
    {
     "data": {
      "image/png": "[encoded data removed]",
      "text/plain": [
       "<Figure size 432x288 with 1 Axes>"
      ]
     },
     "metadata": {
      "needs_background": "light"
     },
     "output_type": "display_data"
    }
   ],
   "source": [
    "col = 'SizeZ'\n",
    "info = datainfo[col]\n",
    "plt.hist(info.tolist())\n",
    "print(np.unique(info.tolist(), return_counts=True))"
   ]
  },
  {
   "cell_type": "code",
   "execution_count": null,
   "metadata": {},
   "outputs": [],
   "source": []
  }
 ],
 "metadata": {
  "kernelspec": {
   "display_name": "dlml",
   "language": "python",
   "name": "python3"
  },
  "language_info": {
   "codemirror_mode": {
    "name": "ipython",
    "version": 3
   },
   "file_extension": ".py",
   "mimetype": "text/x-python",
   "name": "python",
   "nbconvert_exporter": "python",
   "pygments_lexer": "ipython3",
   "version": "3.8.10"
  }
 },
 "nbformat": 4,
 "nbformat_minor": 2
}
